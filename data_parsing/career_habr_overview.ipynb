{
 "cells": [
  {
   "cell_type": "code",
   "execution_count": 1,
   "metadata": {},
   "outputs": [],
   "source": [
    "import pandas as pd\n",
    "from parsers.parse import parse_scrapy\n",
    "from parsers.career_habrSpider import career_habrSpider"
   ]
  },
  {
   "cell_type": "code",
   "execution_count": 2,
   "metadata": {},
   "outputs": [
    {
     "name": "stderr",
     "output_type": "stream",
     "text": [
      "100%|██████████| 25049/25049 [42:02<00:00,  9.93it/s]  \n"
     ]
    }
   ],
   "source": [
    "pages = ['https://career.habr.com/vacancies/10000{}/'.format(i) for i in range(20003, 70100, 2)]\n",
    "career_habr_data = []\n",
    "parse_scrapy(career_habrSpider, pages, career_habr_data)"
   ]
  },
  {
   "cell_type": "code",
   "execution_count": 4,
   "metadata": {},
   "outputs": [
    {
     "data": {
      "text/html": [
       "<div>\n",
       "<style scoped>\n",
       "    .dataframe tbody tr th:only-of-type {\n",
       "        vertical-align: middle;\n",
       "    }\n",
       "\n",
       "    .dataframe tbody tr th {\n",
       "        vertical-align: top;\n",
       "    }\n",
       "\n",
       "    .dataframe thead th {\n",
       "        text-align: right;\n",
       "    }\n",
       "</style>\n",
       "<table border=\"1\" class=\"dataframe\">\n",
       "  <thead>\n",
       "    <tr style=\"text-align: right;\">\n",
       "      <th></th>\n",
       "      <th>time</th>\n",
       "      <th>name</th>\n",
       "      <th>skills</th>\n",
       "    </tr>\n",
       "  </thead>\n",
       "  <tbody>\n",
       "    <tr>\n",
       "      <th>0</th>\n",
       "      <td>2015-07-28T10:14:09+03:00</td>\n",
       "      <td>Рекрутер ИТ</td>\n",
       "      <td>[Другое, Подбор специалистов, Рекрутмент]</td>\n",
       "    </tr>\n",
       "    <tr>\n",
       "      <th>1</th>\n",
       "      <td>2015-08-10T12:08:52+03:00</td>\n",
       "      <td>Full Stack Developer для match-3 проекта (acti...</td>\n",
       "      <td>[Бэкенд, Бэкенд, Фронтенд, ActionScript, Starl...</td>\n",
       "    </tr>\n",
       "    <tr>\n",
       "      <th>2</th>\n",
       "      <td>2015-07-28T14:26:53+03:00</td>\n",
       "      <td>Front-end разработчик (2ГИС для iOS)</td>\n",
       "      <td>[]</td>\n",
       "    </tr>\n",
       "    <tr>\n",
       "      <th>3</th>\n",
       "      <td>2016-03-22T18:45:25+03:00</td>\n",
       "      <td>JavaScript разработчик / JS / Frontend developer</td>\n",
       "      <td>[Фронтенд, JQuery, Backbone.js, React, Node.js...</td>\n",
       "    </tr>\n",
       "    <tr>\n",
       "      <th>4</th>\n",
       "      <td>2015-07-28T16:46:50+03:00</td>\n",
       "      <td>Full stack web developer</td>\n",
       "      <td>[Бэкенд, Бэкенд, Фронтенд, Python, Django]</td>\n",
       "    </tr>\n",
       "    <tr>\n",
       "      <th>...</th>\n",
       "      <td>...</td>\n",
       "      <td>...</td>\n",
       "      <td>...</td>\n",
       "    </tr>\n",
       "    <tr>\n",
       "      <th>19169</th>\n",
       "      <td>2021-02-09T15:52:45+03:00</td>\n",
       "      <td>PHP-разработчик</td>\n",
       "      <td>[Бэкенд, Средний (Middle), JavaScript, Git, ОО...</td>\n",
       "    </tr>\n",
       "    <tr>\n",
       "      <th>19170</th>\n",
       "      <td>2021-02-09T16:54:59+03:00</td>\n",
       "      <td>Data Engineer</td>\n",
       "      <td>[Бэкенд, Средний (Middle), Парсинг, SQL, MySQL...</td>\n",
       "    </tr>\n",
       "    <tr>\n",
       "      <th>19171</th>\n",
       "      <td>2021-04-27T12:10:09+03:00</td>\n",
       "      <td>Senior Automation QA Engineer</td>\n",
       "      <td>[Тестирование, Старший (Senior), JavaScript]</td>\n",
       "    </tr>\n",
       "    <tr>\n",
       "      <th>19172</th>\n",
       "      <td>2021-02-09T17:11:00+03:00</td>\n",
       "      <td>Системный аналитик</td>\n",
       "      <td>[Аналитика, Средний (Middle), SOAP, REST, XML,...</td>\n",
       "    </tr>\n",
       "    <tr>\n",
       "      <th>19173</th>\n",
       "      <td>2021-03-03T11:46:39+03:00</td>\n",
       "      <td>PHP-разработчик (middle, удалённо)</td>\n",
       "      <td>[Бэкенд, Средний (Middle), PHP, MySQL, Git, ОО...</td>\n",
       "    </tr>\n",
       "  </tbody>\n",
       "</table>\n",
       "<p>19174 rows × 3 columns</p>\n",
       "</div>"
      ],
      "text/plain": [
       "                            time  \\\n",
       "0      2015-07-28T10:14:09+03:00   \n",
       "1      2015-08-10T12:08:52+03:00   \n",
       "2      2015-07-28T14:26:53+03:00   \n",
       "3      2016-03-22T18:45:25+03:00   \n",
       "4      2015-07-28T16:46:50+03:00   \n",
       "...                          ...   \n",
       "19169  2021-02-09T15:52:45+03:00   \n",
       "19170  2021-02-09T16:54:59+03:00   \n",
       "19171  2021-04-27T12:10:09+03:00   \n",
       "19172  2021-02-09T17:11:00+03:00   \n",
       "19173  2021-03-03T11:46:39+03:00   \n",
       "\n",
       "                                                    name  \\\n",
       "0                                            Рекрутер ИТ   \n",
       "1      Full Stack Developer для match-3 проекта (acti...   \n",
       "2                   Front-end разработчик (2ГИС для iOS)   \n",
       "3       JavaScript разработчик / JS / Frontend developer   \n",
       "4                               Full stack web developer   \n",
       "...                                                  ...   \n",
       "19169                                    PHP-разработчик   \n",
       "19170                                      Data Engineer   \n",
       "19171                      Senior Automation QA Engineer   \n",
       "19172                                 Системный аналитик   \n",
       "19173                 PHP-разработчик (middle, удалённо)   \n",
       "\n",
       "                                                  skills  \n",
       "0              [Другое, Подбор специалистов, Рекрутмент]  \n",
       "1      [Бэкенд, Бэкенд, Фронтенд, ActionScript, Starl...  \n",
       "2                                                     []  \n",
       "3      [Фронтенд, JQuery, Backbone.js, React, Node.js...  \n",
       "4             [Бэкенд, Бэкенд, Фронтенд, Python, Django]  \n",
       "...                                                  ...  \n",
       "19169  [Бэкенд, Средний (Middle), JavaScript, Git, ОО...  \n",
       "19170  [Бэкенд, Средний (Middle), Парсинг, SQL, MySQL...  \n",
       "19171       [Тестирование, Старший (Senior), JavaScript]  \n",
       "19172  [Аналитика, Средний (Middle), SOAP, REST, XML,...  \n",
       "19173  [Бэкенд, Средний (Middle), PHP, MySQL, Git, ОО...  \n",
       "\n",
       "[19174 rows x 3 columns]"
      ]
     },
     "execution_count": 4,
     "metadata": {},
     "output_type": "execute_result"
    }
   ],
   "source": [
    "df = pd.DataFrame(career_habr_data)\n",
    "df"
   ]
  },
  {
   "cell_type": "code",
   "execution_count": null,
   "metadata": {},
   "outputs": [],
   "source": []
  }
 ],
 "metadata": {
  "kernelspec": {
   "display_name": "Python 3",
   "language": "python",
   "name": "python3"
  },
  "language_info": {
   "codemirror_mode": {
    "name": "ipython",
    "version": 3
   },
   "file_extension": ".py",
   "mimetype": "text/x-python",
   "name": "python",
   "nbconvert_exporter": "python",
   "pygments_lexer": "ipython3",
   "version": "3.7.6"
  }
 },
 "nbformat": 4,
 "nbformat_minor": 4
}
