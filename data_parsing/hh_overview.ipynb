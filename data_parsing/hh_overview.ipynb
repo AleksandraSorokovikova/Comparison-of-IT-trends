{
 "cells": [
  {
   "cell_type": "code",
   "execution_count": 1,
   "metadata": {},
   "outputs": [],
   "source": [
    "import pandas as pd\n",
    "from parsers.hhData import hhData\n",
    "import matplotlib as plt"
   ]
  },
  {
   "cell_type": "code",
   "execution_count": 4,
   "metadata": {},
   "outputs": [
    {
     "name": "stderr",
     "output_type": "stream",
     "text": [
      "  4%|▎         | 1/28 [00:08<03:56,  8.74s/it]"
     ]
    },
    {
     "ename": "KeyboardInterrupt",
     "evalue": "",
     "output_type": "error",
     "traceback": [
      "\u001b[0;31m---------------------------------------------------------------------------\u001b[0m",
      "\u001b[0;31mKeyboardInterrupt\u001b[0m                         Traceback (most recent call last)",
      "\u001b[0;32m<ipython-input-4-6a1ebba7f1bc>\u001b[0m in \u001b[0;36m<module>\u001b[0;34m\u001b[0m\n\u001b[1;32m      2\u001b[0m \u001b[0;34m\u001b[0m\u001b[0m\n\u001b[1;32m      3\u001b[0m \u001b[0mhh_data\u001b[0m \u001b[0;34m=\u001b[0m \u001b[0mhhData\u001b[0m\u001b[0;34m(\u001b[0m\u001b[0;34m)\u001b[0m\u001b[0;34m\u001b[0m\u001b[0;34m\u001b[0m\u001b[0m\n\u001b[0;32m----> 4\u001b[0;31m \u001b[0mvacancies\u001b[0m \u001b[0;34m=\u001b[0m \u001b[0mpd\u001b[0m\u001b[0;34m.\u001b[0m\u001b[0mDataFrame\u001b[0m\u001b[0;34m.\u001b[0m\u001b[0mfrom_dict\u001b[0m\u001b[0;34m(\u001b[0m\u001b[0mhh_data\u001b[0m\u001b[0;34m.\u001b[0m\u001b[0mload_data\u001b[0m\u001b[0;34m(\u001b[0m\u001b[0mfiles\u001b[0m\u001b[0;34m)\u001b[0m\u001b[0;34m)\u001b[0m\u001b[0;34m\u001b[0m\u001b[0;34m\u001b[0m\u001b[0m\n\u001b[0m\u001b[1;32m      5\u001b[0m \u001b[0;31m#vacancies = pd.read_json('hh_data.json')\u001b[0m\u001b[0;34m\u001b[0m\u001b[0;34m\u001b[0m\u001b[0;34m\u001b[0m\u001b[0m\n\u001b[1;32m      6\u001b[0m \u001b[0;34m\u001b[0m\u001b[0m\n",
      "\u001b[0;32m~/Data Science/НИР Сравнение IT/Comparison-of-IT-trends/data_parsing/parsers/hhData.py\u001b[0m in \u001b[0;36mload_data\u001b[0;34m(self, files)\u001b[0m\n\u001b[1;32m     82\u001b[0m         \u001b[0;32mfor\u001b[0m \u001b[0mfile\u001b[0m \u001b[0;32min\u001b[0m \u001b[0mtqdm\u001b[0m\u001b[0;34m(\u001b[0m\u001b[0mfiles\u001b[0m\u001b[0;34m)\u001b[0m\u001b[0;34m:\u001b[0m\u001b[0;34m\u001b[0m\u001b[0;34m\u001b[0m\u001b[0m\n\u001b[1;32m     83\u001b[0m             \u001b[0mdata_file\u001b[0m \u001b[0;34m=\u001b[0m \u001b[0mopen\u001b[0m\u001b[0;34m(\u001b[0m\u001b[0;34m\"hh_data/\"\u001b[0m \u001b[0;34m+\u001b[0m \u001b[0mfile\u001b[0m\u001b[0;34m,\u001b[0m \u001b[0;34m'r'\u001b[0m\u001b[0;34m,\u001b[0m \u001b[0mencoding\u001b[0m\u001b[0;34m=\u001b[0m\u001b[0;34m'utf-8'\u001b[0m\u001b[0;34m)\u001b[0m\u001b[0;34m\u001b[0m\u001b[0;34m\u001b[0m\u001b[0m\n\u001b[0;32m---> 84\u001b[0;31m             \u001b[0mdata\u001b[0m \u001b[0;34m=\u001b[0m \u001b[0mdata_file\u001b[0m\u001b[0;34m.\u001b[0m\u001b[0mreadlines\u001b[0m\u001b[0;34m(\u001b[0m\u001b[0;34m)\u001b[0m\u001b[0;34m\u001b[0m\u001b[0;34m\u001b[0m\u001b[0m\n\u001b[0m\u001b[1;32m     85\u001b[0m             \u001b[0mdata_file\u001b[0m\u001b[0;34m.\u001b[0m\u001b[0mclose\u001b[0m\u001b[0;34m(\u001b[0m\u001b[0;34m)\u001b[0m\u001b[0;34m\u001b[0m\u001b[0;34m\u001b[0m\u001b[0m\n\u001b[1;32m     86\u001b[0m \u001b[0;34m\u001b[0m\u001b[0m\n",
      "\u001b[0;32m~/opt/anaconda3/lib/python3.7/codecs.py\u001b[0m in \u001b[0;36mdecode\u001b[0;34m(self, input, final)\u001b[0m\n\u001b[1;32m    317\u001b[0m         \u001b[0;32mraise\u001b[0m \u001b[0mNotImplementedError\u001b[0m\u001b[0;34m\u001b[0m\u001b[0;34m\u001b[0m\u001b[0m\n\u001b[1;32m    318\u001b[0m \u001b[0;34m\u001b[0m\u001b[0m\n\u001b[0;32m--> 319\u001b[0;31m     \u001b[0;32mdef\u001b[0m \u001b[0mdecode\u001b[0m\u001b[0;34m(\u001b[0m\u001b[0mself\u001b[0m\u001b[0;34m,\u001b[0m \u001b[0minput\u001b[0m\u001b[0;34m,\u001b[0m \u001b[0mfinal\u001b[0m\u001b[0;34m=\u001b[0m\u001b[0;32mFalse\u001b[0m\u001b[0;34m)\u001b[0m\u001b[0;34m:\u001b[0m\u001b[0;34m\u001b[0m\u001b[0;34m\u001b[0m\u001b[0m\n\u001b[0m\u001b[1;32m    320\u001b[0m         \u001b[0;31m# decode input (taking the buffer into account)\u001b[0m\u001b[0;34m\u001b[0m\u001b[0;34m\u001b[0m\u001b[0;34m\u001b[0m\u001b[0m\n\u001b[1;32m    321\u001b[0m         \u001b[0mdata\u001b[0m \u001b[0;34m=\u001b[0m \u001b[0mself\u001b[0m\u001b[0;34m.\u001b[0m\u001b[0mbuffer\u001b[0m \u001b[0;34m+\u001b[0m \u001b[0minput\u001b[0m\u001b[0;34m\u001b[0m\u001b[0;34m\u001b[0m\u001b[0m\n",
      "\u001b[0;31mKeyboardInterrupt\u001b[0m: "
     ]
    }
   ],
   "source": [
    "files = [str(i) + 'ds.json' for i in range(1, 29)]\n",
    "\n",
    "hh_data = hhData()\n",
    "vacancies = pd.DataFrame.from_dict(hh_data.load_data(files))\n",
    "#vacancies = pd.read_json('hh_data.json')\n",
    "\n",
    "specializations_dict = hh_data.specializations_dict\n",
    "profarea_dict = hh_data.profarea_dict\n",
    "\n",
    "specialization_counts = hh_data.specializations_counts\n",
    "profarea_counts = hh_data.profarea_counts"
   ]
  },
  {
   "cell_type": "code",
   "execution_count": 5,
   "metadata": {},
   "outputs": [
    {
     "ename": "NameError",
     "evalue": "name 'vacancies' is not defined",
     "output_type": "error",
     "traceback": [
      "\u001b[0;31m---------------------------------------------------------------------------\u001b[0m",
      "\u001b[0;31mNameError\u001b[0m                                 Traceback (most recent call last)",
      "\u001b[0;32m<ipython-input-5-0281da9790c0>\u001b[0m in \u001b[0;36m<module>\u001b[0;34m\u001b[0m\n\u001b[0;32m----> 1\u001b[0;31m \u001b[0mvacancies\u001b[0m\u001b[0;34m.\u001b[0m\u001b[0minfo\u001b[0m\u001b[0;34m(\u001b[0m\u001b[0;34m)\u001b[0m\u001b[0;34m\u001b[0m\u001b[0;34m\u001b[0m\u001b[0m\n\u001b[0m",
      "\u001b[0;31mNameError\u001b[0m: name 'vacancies' is not defined"
     ]
    }
   ],
   "source": [
    "vacancies.info()"
   ]
  },
  {
   "cell_type": "code",
   "execution_count": 4,
   "metadata": {},
   "outputs": [
    {
     "data": {
      "text/html": [
       "<div>\n",
       "<style scoped>\n",
       "    .dataframe tbody tr th:only-of-type {\n",
       "        vertical-align: middle;\n",
       "    }\n",
       "\n",
       "    .dataframe tbody tr th {\n",
       "        vertical-align: top;\n",
       "    }\n",
       "\n",
       "    .dataframe thead th {\n",
       "        text-align: right;\n",
       "    }\n",
       "</style>\n",
       "<table border=\"1\" class=\"dataframe\">\n",
       "  <thead>\n",
       "    <tr style=\"text-align: right;\">\n",
       "      <th></th>\n",
       "      <th>name</th>\n",
       "      <th>area</th>\n",
       "      <th>key_skills</th>\n",
       "      <th>published_at</th>\n",
       "      <th>specializations</th>\n",
       "      <th>profarea_name</th>\n",
       "    </tr>\n",
       "  </thead>\n",
       "  <tbody>\n",
       "    <tr>\n",
       "      <th>0</th>\n",
       "      <td>Старший менеджер интернет-проектов / интернет-...</td>\n",
       "      <td>Москва</td>\n",
       "      <td>[]</td>\n",
       "      <td>2019-07-09T16:16:07+0300</td>\n",
       "      <td>[1.89, 3.90, 1.359, 12.5]</td>\n",
       "      <td>[3, 12, 1]</td>\n",
       "    </tr>\n",
       "    <tr>\n",
       "      <th>1</th>\n",
       "      <td>Java-разработчик</td>\n",
       "      <td>Санкт-Петербург</td>\n",
       "      <td>[Java, GWT, HTML, SQL, Google Maps Api, Git, J...</td>\n",
       "      <td>2019-06-17T11:24:57+0300</td>\n",
       "      <td>[1.221]</td>\n",
       "      <td>[1]</td>\n",
       "    </tr>\n",
       "    <tr>\n",
       "      <th>2</th>\n",
       "      <td>Middle Frontend Developer (Angular)</td>\n",
       "      <td>Санкт-Петербург</td>\n",
       "      <td>[]</td>\n",
       "      <td>2019-07-17T11:25:28+0300</td>\n",
       "      <td>[1.221]</td>\n",
       "      <td>[1]</td>\n",
       "    </tr>\n",
       "    <tr>\n",
       "      <th>3</th>\n",
       "      <td>Специалист по IT Отдела поддержки пользователе...</td>\n",
       "      <td>Тараз</td>\n",
       "      <td>[]</td>\n",
       "      <td>2019-06-17T11:25:23+0300</td>\n",
       "      <td>[1.395, 1.327, 1.221, 1.420]</td>\n",
       "      <td>[1]</td>\n",
       "    </tr>\n",
       "    <tr>\n",
       "      <th>4</th>\n",
       "      <td>Ведущий продуктовый аналитик/Senior Product An...</td>\n",
       "      <td>Москва</td>\n",
       "      <td>[Product Management, Управление продуктом, Раз...</td>\n",
       "      <td>2019-07-17T11:25:45+0300</td>\n",
       "      <td>[1.327, 1.474, 1.25, 5.368, 1.89, 3.150]</td>\n",
       "      <td>[3, 1, 5]</td>\n",
       "    </tr>\n",
       "  </tbody>\n",
       "</table>\n",
       "</div>"
      ],
      "text/plain": [
       "                                                name             area  \\\n",
       "0  Старший менеджер интернет-проектов / интернет-...           Москва   \n",
       "1                                   Java-разработчик  Санкт-Петербург   \n",
       "2                Middle Frontend Developer (Angular)  Санкт-Петербург   \n",
       "3  Специалист по IT Отдела поддержки пользователе...            Тараз   \n",
       "4  Ведущий продуктовый аналитик/Senior Product An...           Москва   \n",
       "\n",
       "                                          key_skills  \\\n",
       "0                                                 []   \n",
       "1  [Java, GWT, HTML, SQL, Google Maps Api, Git, J...   \n",
       "2                                                 []   \n",
       "3                                                 []   \n",
       "4  [Product Management, Управление продуктом, Раз...   \n",
       "\n",
       "               published_at                           specializations  \\\n",
       "0  2019-07-09T16:16:07+0300                 [1.89, 3.90, 1.359, 12.5]   \n",
       "1  2019-06-17T11:24:57+0300                                   [1.221]   \n",
       "2  2019-07-17T11:25:28+0300                                   [1.221]   \n",
       "3  2019-06-17T11:25:23+0300              [1.395, 1.327, 1.221, 1.420]   \n",
       "4  2019-07-17T11:25:45+0300  [1.327, 1.474, 1.25, 5.368, 1.89, 3.150]   \n",
       "\n",
       "  profarea_name  \n",
       "0    [3, 12, 1]  \n",
       "1           [1]  \n",
       "2           [1]  \n",
       "3           [1]  \n",
       "4     [3, 1, 5]  "
      ]
     },
     "execution_count": 4,
     "metadata": {},
     "output_type": "execute_result"
    }
   ],
   "source": [
    "vacancies.head()"
   ]
  },
  {
   "cell_type": "code",
   "execution_count": 5,
   "metadata": {},
   "outputs": [],
   "source": [
    "def id_to_words(row):\n",
    "    row = [specializations_dict[i] for i in row]\n",
    "    return row\n",
    "\n",
    "def join_words(row):\n",
    "    row = ' '.join(row)\n",
    "    return row\n",
    "\n",
    "def format_row(row):\n",
    "    row = row.lower().replace(',', '').replace('(', '').replace(')', '').replace('/', '')\n",
    "    return row"
   ]
  },
  {
   "cell_type": "code",
   "execution_count": 6,
   "metadata": {},
   "outputs": [],
   "source": [
    "specializations_column = vacancies['specializations'].apply(id_to_words).apply(join_words).apply(format_row)\n",
    "key_skills_column = vacancies['key_skills'].apply(join_words).apply(format_row)\n",
    "name_column = vacancies['name'].apply(format_row)\n",
    "general_features = specializations_column + ' ' + key_skills_column + ' ' + name_column\n",
    "general_features = general_features.values.astype('U')"
   ]
  },
  {
   "cell_type": "code",
   "execution_count": 7,
   "metadata": {},
   "outputs": [
    {
     "data": {
      "text/plain": [
       "<226219x28427 sparse matrix of type '<class 'numpy.float64'>'\n",
       "\twith 3160614 stored elements in Compressed Sparse Row format>"
      ]
     },
     "execution_count": 7,
     "metadata": {},
     "output_type": "execute_result"
    }
   ],
   "source": [
    "from sklearn.feature_extraction.text import TfidfVectorizer\n",
    "to_vector = TfidfVectorizer()\n",
    "general_features_vectorized = to_vector.fit_transform(general_features)\n",
    "general_features_vectorized"
   ]
  },
  {
   "cell_type": "code",
   "execution_count": 13,
   "metadata": {},
   "outputs": [
    {
     "name": "stdout",
     "output_type": "stream",
     "text": [
      "Initialization complete\n",
      "Iteration  0, inertia 339769.557\n",
      "Iteration  1, inertia 195638.510\n",
      "Iteration  2, inertia 193147.715\n",
      "Iteration  3, inertia 192066.003\n",
      "Iteration  4, inertia 191169.001\n",
      "Iteration  5, inertia 190726.574\n",
      "Iteration  6, inertia 190573.106\n",
      "Iteration  7, inertia 190485.171\n",
      "Iteration  8, inertia 190402.632\n",
      "Iteration  9, inertia 190363.300\n",
      "Iteration 10, inertia 190340.468\n",
      "Iteration 11, inertia 190325.236\n",
      "Iteration 12, inertia 190314.816\n",
      "Iteration 13, inertia 190304.775\n",
      "Iteration 14, inertia 190290.142\n",
      "Iteration 15, inertia 190283.051\n",
      "Iteration 16, inertia 190277.686\n",
      "Iteration 17, inertia 190273.463\n",
      "Iteration 18, inertia 190269.700\n",
      "Iteration 19, inertia 190265.295\n",
      "Iteration 20, inertia 190255.546\n",
      "Iteration 21, inertia 190239.686\n",
      "Iteration 22, inertia 190222.442\n",
      "Iteration 23, inertia 190208.443\n",
      "Iteration 24, inertia 190195.416\n",
      "Iteration 25, inertia 190184.752\n",
      "Iteration 26, inertia 190176.201\n",
      "Iteration 27, inertia 190168.806\n",
      "Iteration 28, inertia 190162.248\n",
      "Iteration 29, inertia 190158.538\n",
      "Iteration 30, inertia 190155.790\n",
      "Iteration 31, inertia 190153.472\n",
      "Iteration 32, inertia 190151.070\n",
      "Iteration 33, inertia 190148.438\n",
      "Iteration 34, inertia 190144.729\n",
      "Iteration 35, inertia 190137.908\n",
      "Iteration 36, inertia 190123.413\n",
      "Iteration 37, inertia 190108.687\n",
      "Iteration 38, inertia 190101.552\n",
      "Iteration 39, inertia 190097.201\n",
      "Iteration 40, inertia 190094.598\n",
      "Iteration 41, inertia 190092.429\n",
      "Iteration 42, inertia 190090.568\n",
      "Iteration 43, inertia 190089.260\n",
      "Iteration 44, inertia 190088.420\n",
      "Iteration 45, inertia 190087.838\n",
      "Iteration 46, inertia 190087.545\n",
      "Iteration 47, inertia 190087.307\n",
      "Iteration 48, inertia 190086.955\n",
      "Iteration 49, inertia 190086.529\n",
      "Iteration 50, inertia 190086.370\n",
      "Iteration 51, inertia 190086.296\n",
      "Iteration 52, inertia 190086.238\n",
      "Iteration 53, inertia 190086.195\n",
      "Iteration 54, inertia 190086.169\n",
      "Iteration 55, inertia 190086.151\n",
      "Iteration 56, inertia 190086.138\n",
      "Iteration 57, inertia 190086.049\n",
      "Iteration 58, inertia 190086.019\n",
      "Iteration 59, inertia 190085.986\n",
      "Iteration 60, inertia 190085.980\n",
      "Iteration 61, inertia 190085.939\n",
      "Iteration 62, inertia 190085.923\n",
      "Iteration 63, inertia 190085.914\n",
      "Iteration 64, inertia 190085.912\n",
      "Iteration 65, inertia 190085.909\n",
      "Iteration 66, inertia 190085.909\n",
      "Iteration 67, inertia 190085.908\n",
      "Iteration 68, inertia 190085.908\n",
      "Iteration 69, inertia 190085.900\n",
      "Iteration 70, inertia 190085.899\n",
      "Iteration 71, inertia 190085.898\n",
      "Iteration 72, inertia 190085.898\n",
      "Iteration 73, inertia 190085.897\n",
      "Iteration 74, inertia 190085.897\n",
      "Converged at iteration 74: center shift 0.000000e+00 within tolerance 3.365197e-09\n",
      "Initialization complete\n",
      "Iteration  0, inertia 338860.998\n",
      "Iteration  1, inertia 195629.504\n",
      "Iteration  2, inertia 192116.470\n",
      "Iteration  3, inertia 191507.786\n",
      "Iteration  4, inertia 191247.827\n",
      "Iteration  5, inertia 190962.091\n",
      "Iteration  6, inertia 190875.024\n",
      "Iteration  7, inertia 190824.592\n",
      "Iteration  8, inertia 190774.819\n",
      "Iteration  9, inertia 190715.693\n",
      "Iteration 10, inertia 190644.071\n"
     ]
    },
    {
     "ename": "KeyboardInterrupt",
     "evalue": "",
     "output_type": "error",
     "traceback": [
      "\u001b[0;31m---------------------------------------------------------------------------\u001b[0m",
      "\u001b[0;31mKeyboardInterrupt\u001b[0m                         Traceback (most recent call last)",
      "\u001b[0;32m<ipython-input-13-8ff60f5babc1>\u001b[0m in \u001b[0;36m<module>\u001b[0;34m\u001b[0m\n\u001b[1;32m      4\u001b[0m \u001b[0mk\u001b[0m \u001b[0;34m=\u001b[0m \u001b[0;36m10\u001b[0m\u001b[0;34m\u001b[0m\u001b[0;34m\u001b[0m\u001b[0m\n\u001b[1;32m      5\u001b[0m \u001b[0mkmeans\u001b[0m \u001b[0;34m=\u001b[0m \u001b[0mKMeans\u001b[0m\u001b[0;34m(\u001b[0m\u001b[0mn_clusters\u001b[0m\u001b[0;34m=\u001b[0m\u001b[0mk\u001b[0m\u001b[0;34m,\u001b[0m \u001b[0mrandom_state\u001b[0m\u001b[0;34m=\u001b[0m\u001b[0;36m42\u001b[0m\u001b[0;34m,\u001b[0m \u001b[0mverbose\u001b[0m\u001b[0;34m=\u001b[0m\u001b[0;36m5\u001b[0m\u001b[0;34m,\u001b[0m \u001b[0mmax_iter\u001b[0m \u001b[0;34m=\u001b[0m \u001b[0;36m100\u001b[0m\u001b[0;34m)\u001b[0m\u001b[0;34m\u001b[0m\u001b[0;34m\u001b[0m\u001b[0m\n\u001b[0;32m----> 6\u001b[0;31m \u001b[0my_pred\u001b[0m \u001b[0;34m=\u001b[0m \u001b[0mkmeans\u001b[0m\u001b[0;34m.\u001b[0m\u001b[0mfit_predict\u001b[0m\u001b[0;34m(\u001b[0m\u001b[0mgeneral_features_vectorized\u001b[0m\u001b[0;34m)\u001b[0m\u001b[0;34m\u001b[0m\u001b[0;34m\u001b[0m\u001b[0m\n\u001b[0m",
      "\u001b[0;32m~/opt/anaconda3/lib/python3.7/site-packages/sklearn/cluster/_kmeans.py\u001b[0m in \u001b[0;36mfit_predict\u001b[0;34m(self, X, y, sample_weight)\u001b[0m\n\u001b[1;32m   1006\u001b[0m             \u001b[0mIndex\u001b[0m \u001b[0mof\u001b[0m \u001b[0mthe\u001b[0m \u001b[0mcluster\u001b[0m \u001b[0meach\u001b[0m \u001b[0msample\u001b[0m \u001b[0mbelongs\u001b[0m \u001b[0mto\u001b[0m\u001b[0;34m.\u001b[0m\u001b[0;34m\u001b[0m\u001b[0;34m\u001b[0m\u001b[0m\n\u001b[1;32m   1007\u001b[0m         \"\"\"\n\u001b[0;32m-> 1008\u001b[0;31m         \u001b[0;32mreturn\u001b[0m \u001b[0mself\u001b[0m\u001b[0;34m.\u001b[0m\u001b[0mfit\u001b[0m\u001b[0;34m(\u001b[0m\u001b[0mX\u001b[0m\u001b[0;34m,\u001b[0m \u001b[0msample_weight\u001b[0m\u001b[0;34m=\u001b[0m\u001b[0msample_weight\u001b[0m\u001b[0;34m)\u001b[0m\u001b[0;34m.\u001b[0m\u001b[0mlabels_\u001b[0m\u001b[0;34m\u001b[0m\u001b[0;34m\u001b[0m\u001b[0m\n\u001b[0m\u001b[1;32m   1009\u001b[0m \u001b[0;34m\u001b[0m\u001b[0m\n\u001b[1;32m   1010\u001b[0m     \u001b[0;32mdef\u001b[0m \u001b[0mfit_transform\u001b[0m\u001b[0;34m(\u001b[0m\u001b[0mself\u001b[0m\u001b[0;34m,\u001b[0m \u001b[0mX\u001b[0m\u001b[0;34m,\u001b[0m \u001b[0my\u001b[0m\u001b[0;34m=\u001b[0m\u001b[0;32mNone\u001b[0m\u001b[0;34m,\u001b[0m \u001b[0msample_weight\u001b[0m\u001b[0;34m=\u001b[0m\u001b[0;32mNone\u001b[0m\u001b[0;34m)\u001b[0m\u001b[0;34m:\u001b[0m\u001b[0;34m\u001b[0m\u001b[0;34m\u001b[0m\u001b[0m\n",
      "\u001b[0;32m~/opt/anaconda3/lib/python3.7/site-packages/sklearn/cluster/_kmeans.py\u001b[0m in \u001b[0;36mfit\u001b[0;34m(self, X, y, sample_weight)\u001b[0m\n\u001b[1;32m    935\u001b[0m                     \u001b[0mmax_iter\u001b[0m\u001b[0;34m=\u001b[0m\u001b[0mself\u001b[0m\u001b[0;34m.\u001b[0m\u001b[0mmax_iter\u001b[0m\u001b[0;34m,\u001b[0m \u001b[0minit\u001b[0m\u001b[0;34m=\u001b[0m\u001b[0minit\u001b[0m\u001b[0;34m,\u001b[0m \u001b[0mverbose\u001b[0m\u001b[0;34m=\u001b[0m\u001b[0mself\u001b[0m\u001b[0;34m.\u001b[0m\u001b[0mverbose\u001b[0m\u001b[0;34m,\u001b[0m\u001b[0;34m\u001b[0m\u001b[0;34m\u001b[0m\u001b[0m\n\u001b[1;32m    936\u001b[0m                     \u001b[0mprecompute_distances\u001b[0m\u001b[0;34m=\u001b[0m\u001b[0mprecompute_distances\u001b[0m\u001b[0;34m,\u001b[0m \u001b[0mtol\u001b[0m\u001b[0;34m=\u001b[0m\u001b[0mtol\u001b[0m\u001b[0;34m,\u001b[0m\u001b[0;34m\u001b[0m\u001b[0;34m\u001b[0m\u001b[0m\n\u001b[0;32m--> 937\u001b[0;31m                     x_squared_norms=x_squared_norms, random_state=seed)\n\u001b[0m\u001b[1;32m    938\u001b[0m                 \u001b[0;31m# determine if these results are the best so far\u001b[0m\u001b[0;34m\u001b[0m\u001b[0;34m\u001b[0m\u001b[0;34m\u001b[0m\u001b[0m\n\u001b[1;32m    939\u001b[0m                 \u001b[0;32mif\u001b[0m \u001b[0mbest_inertia\u001b[0m \u001b[0;32mis\u001b[0m \u001b[0;32mNone\u001b[0m \u001b[0;32mor\u001b[0m \u001b[0minertia\u001b[0m \u001b[0;34m<\u001b[0m \u001b[0mbest_inertia\u001b[0m\u001b[0;34m:\u001b[0m\u001b[0;34m\u001b[0m\u001b[0;34m\u001b[0m\u001b[0m\n",
      "\u001b[0;32m~/opt/anaconda3/lib/python3.7/site-packages/sklearn/cluster/_kmeans.py\u001b[0m in \u001b[0;36m_kmeans_single_lloyd\u001b[0;34m(X, sample_weight, n_clusters, max_iter, init, verbose, x_squared_norms, random_state, tol, precompute_distances)\u001b[0m\n\u001b[1;32m    427\u001b[0m         \u001b[0;32mif\u001b[0m \u001b[0msp\u001b[0m\u001b[0;34m.\u001b[0m\u001b[0missparse\u001b[0m\u001b[0;34m(\u001b[0m\u001b[0mX\u001b[0m\u001b[0;34m)\u001b[0m\u001b[0;34m:\u001b[0m\u001b[0;34m\u001b[0m\u001b[0;34m\u001b[0m\u001b[0m\n\u001b[1;32m    428\u001b[0m             centers = _k_means._centers_sparse(X, sample_weight, labels,\n\u001b[0;32m--> 429\u001b[0;31m                                                n_clusters, distances)\n\u001b[0m\u001b[1;32m    430\u001b[0m         \u001b[0;32melse\u001b[0m\u001b[0;34m:\u001b[0m\u001b[0;34m\u001b[0m\u001b[0;34m\u001b[0m\u001b[0m\n\u001b[1;32m    431\u001b[0m             centers = _k_means._centers_dense(X, sample_weight, labels,\n",
      "\u001b[0;31mKeyboardInterrupt\u001b[0m: "
     ]
    }
   ],
   "source": [
    "from sklearn.cluster import MiniBatchKMeans\n",
    "from sklearn.cluster import KMeans\n",
    "\n",
    "k = 10\n",
    "kmeans = KMeans(n_clusters=k, random_state=42, verbose=5, max_iter = 100)\n",
    "y_pred = kmeans.fit_predict(general_features_vectorized)\n"
   ]
  },
  {
   "cell_type": "code",
   "execution_count": 14,
   "metadata": {},
   "outputs": [
    {
     "ename": "NameError",
     "evalue": "name 'y_pred' is not defined",
     "output_type": "error",
     "traceback": [
      "\u001b[0;31m---------------------------------------------------------------------------\u001b[0m",
      "\u001b[0;31mNameError\u001b[0m                                 Traceback (most recent call last)",
      "\u001b[0;32m<ipython-input-14-3aaf935e6aec>\u001b[0m in \u001b[0;36m<module>\u001b[0;34m\u001b[0m\n\u001b[0;32m----> 1\u001b[0;31m \u001b[0my_pred\u001b[0m\u001b[0;34m\u001b[0m\u001b[0;34m\u001b[0m\u001b[0m\n\u001b[0m",
      "\u001b[0;31mNameError\u001b[0m: name 'y_pred' is not defined"
     ]
    }
   ],
   "source": [
    "y_pred"
   ]
  },
  {
   "cell_type": "code",
   "execution_count": null,
   "metadata": {},
   "outputs": [],
   "source": []
  }
 ],
 "metadata": {
  "kernelspec": {
   "display_name": "Python 3",
   "language": "python",
   "name": "python3"
  },
  "language_info": {
   "codemirror_mode": {
    "name": "ipython",
    "version": 3
   },
   "file_extension": ".py",
   "mimetype": "text/x-python",
   "name": "python",
   "nbconvert_exporter": "python",
   "pygments_lexer": "ipython3",
   "version": "3.7.6"
  }
 },
 "nbformat": 4,
 "nbformat_minor": 4
}
