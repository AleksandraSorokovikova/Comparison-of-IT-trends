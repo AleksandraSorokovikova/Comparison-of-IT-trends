{
 "cells": [
  {
   "cell_type": "code",
   "execution_count": 1,
   "metadata": {},
   "outputs": [],
   "source": [
    "import pandas as pd\n",
    "from parsers.parse import parse_scrapy\n",
    "from parsers.habrSpider import habrSpider"
   ]
  },
  {
   "cell_type": "code",
   "execution_count": 3,
   "metadata": {},
   "outputs": [
    {
     "name": "stderr",
     "output_type": "stream",
     "text": [
      "100%|██████████| 6/6 [00:00<00:00, 317.09it/s]\n"
     ]
    }
   ],
   "source": [
    "pages = ['https://habr.com/ru/post/{0}/'.format(i) for i in range(587430, 587436)]\n",
    "habr_data = []\n",
    "parse_scrapy(habrSpider, pages, habr_data)"
   ]
  },
  {
   "cell_type": "code",
   "execution_count": 5,
   "metadata": {},
   "outputs": [
    {
     "data": {
      "text/html": [
       "<div>\n",
       "<style scoped>\n",
       "    .dataframe tbody tr th:only-of-type {\n",
       "        vertical-align: middle;\n",
       "    }\n",
       "\n",
       "    .dataframe tbody tr th {\n",
       "        vertical-align: top;\n",
       "    }\n",
       "\n",
       "    .dataframe thead th {\n",
       "        text-align: right;\n",
       "    }\n",
       "</style>\n",
       "<table border=\"1\" class=\"dataframe\">\n",
       "  <thead>\n",
       "    <tr style=\"text-align: right;\">\n",
       "      <th></th>\n",
       "      <th>time</th>\n",
       "      <th>tags</th>\n",
       "      <th>habs</th>\n",
       "      <th>saved</th>\n",
       "      <th>comments</th>\n",
       "      <th>views</th>\n",
       "    </tr>\n",
       "  </thead>\n",
       "  <tbody>\n",
       "    <tr>\n",
       "      <th>0</th>\n",
       "      <td>2021-11-04T21:45:41.000Z</td>\n",
       "      <td>[криптография эксперимент]</td>\n",
       "      <td>[криптография, python]</td>\n",
       "      <td>15</td>\n",
       "      <td>8</td>\n",
       "      <td>2100</td>\n",
       "    </tr>\n",
       "    <tr>\n",
       "      <th>1</th>\n",
       "      <td>2021-11-04T20:51:10.000Z</td>\n",
       "      <td>[telegraph, telegra.ph, api, python, bot teleg...</td>\n",
       "      <td>[python, программирование, api]</td>\n",
       "      <td>37</td>\n",
       "      <td>0</td>\n",
       "      <td>1524</td>\n",
       "    </tr>\n",
       "    <tr>\n",
       "      <th>2</th>\n",
       "      <td>2021-11-04T22:22:49.000Z</td>\n",
       "      <td>[quantum, business, qubit, science, binom, pro...</td>\n",
       "      <td>[развитие стартапа]</td>\n",
       "      <td>0</td>\n",
       "      <td>0</td>\n",
       "      <td>64</td>\n",
       "    </tr>\n",
       "  </tbody>\n",
       "</table>\n",
       "</div>"
      ],
      "text/plain": [
       "                       time  \\\n",
       "0  2021-11-04T21:45:41.000Z   \n",
       "1  2021-11-04T20:51:10.000Z   \n",
       "2  2021-11-04T22:22:49.000Z   \n",
       "\n",
       "                                                tags  \\\n",
       "0                         [криптография эксперимент]   \n",
       "1  [telegraph, telegra.ph, api, python, bot teleg...   \n",
       "2  [quantum, business, qubit, science, binom, pro...   \n",
       "\n",
       "                              habs  saved  comments  views  \n",
       "0           [криптография, python]     15         8   2100  \n",
       "1  [python, программирование, api]     37         0   1524  \n",
       "2              [развитие стартапа]      0         0     64  "
      ]
     },
     "execution_count": 5,
     "metadata": {},
     "output_type": "execute_result"
    }
   ],
   "source": [
    "pd.DataFrame(habr_data)"
   ]
  },
  {
   "cell_type": "code",
   "execution_count": null,
   "metadata": {},
   "outputs": [],
   "source": []
  }
 ],
 "metadata": {
  "kernelspec": {
   "display_name": "Python 3",
   "language": "python",
   "name": "python3"
  },
  "language_info": {
   "codemirror_mode": {
    "name": "ipython",
    "version": 3
   },
   "file_extension": ".py",
   "mimetype": "text/x-python",
   "name": "python",
   "nbconvert_exporter": "python",
   "pygments_lexer": "ipython3",
   "version": "3.7.6"
  }
 },
 "nbformat": 4,
 "nbformat_minor": 4
}
